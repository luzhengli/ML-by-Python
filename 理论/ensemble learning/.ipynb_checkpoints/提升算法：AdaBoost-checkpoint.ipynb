{
 "cells": [
  {
   "cell_type": "markdown",
   "metadata": {},
   "source": [
    "提升（Boosting）一族算法的基本思想：\n",
    "- 先从初始训练集训练一个基学习器\n",
    "- 再根据基学习器表现调整样本分布\n",
    "- 基于调整后的样本分布训练下一个学习器（使先前出错的样本得到更多关注）\n",
    "- 学习器达到预设数量后停止训练，将所有的学习的进行线性组合，作为最后的模型"
   ]
  },
  {
   "cell_type": "markdown",
   "metadata": {},
   "source": [
    "AdaBoost（Adaptive Boosting）是Boosting族中一个典型的算法。"
   ]
  },
  {
   "cell_type": "markdown",
   "metadata": {},
   "source": [
    "AdaBoost算法思想可以用数学描述为：\n",
    "\n",
    "对于训练数据$T={(x_1,y_1),(x_2,y_2),...,(x_n,y_n)}$，其中$x_i \\in \\chi \\subseteq R^n$，$y \\in Y{-1,+1}$。希望得到分类器$G(x)=\\sum_{m=1}^Ma_m G_m(x)$，$m$是分类器数量，$a_i$是基分类器的权重。"
   ]
  }
 ],
 "metadata": {
  "kernelspec": {
   "display_name": "Python 3",
   "language": "python",
   "name": "python3"
  },
  "language_info": {
   "codemirror_mode": {
    "name": "ipython",
    "version": 3
   },
   "file_extension": ".py",
   "mimetype": "text/x-python",
   "name": "python",
   "nbconvert_exporter": "python",
   "pygments_lexer": "ipython3",
   "version": "3.7.4"
  }
 },
 "nbformat": 4,
 "nbformat_minor": 4
}
